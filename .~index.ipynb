{
 "cells": [
  {
   "cell_type": "markdown",
   "metadata": {},
   "source": [
    "## Applying gradient descent"
   ]
  },
  {
   "cell_type": "markdown",
   "metadata": {},
   "source": [
    "### Introduction"
   ]
  },
  {
   "cell_type": "markdown",
   "metadata": {},
   "source": [
    "In the last lesson, we derived the functions that help us descend down cost functions efficiently.  Remember that this technique is not so different from what we saw when using the derivative to tell us the next step size and direction in two dimensions.  "
   ]
  },
  {
   "cell_type": "markdown",
   "metadata": {},
   "source": [
    "![](./tangent-lines.png)"
   ]
  },
  {
   "cell_type": "markdown",
   "metadata": {},
   "source": [
    "When descending down our cost curve in two dimensions, we used the slope of the tangent line at each point to tell us how large of a step to take next. Since the cost curve is a function of $m$ and $b$, we used the gradient to determine each step.  "
   ]
  },
  {
   "cell_type": "markdown",
   "metadata": {},
   "source": [
    "![](./gradientdescent.png)"
   ]
  },
  {
   "cell_type": "markdown",
   "metadata": {},
   "source": [
    "But really this approach is analogous to what you have seen before. For a single variable function, $f(x)$, the derivative tells you the slope of the line tangent to the plot of $f(x)$ at a given value of $x$. In turn, this tells you the next step size. In the case of a multivariable function, $J(m, b)$, we calculate the *partial derivative* with respect to *both* variables. For a regression line, these variables are our slope and y-intercept. The gradient allows you to calculate how much to move in either direction in order to reach the local minimum.   "
   ]
  },
  {
   "cell_type": "markdown",
   "metadata": {},
   "source": [
    "### Reviewing our gradient descent formulas"
   ]
  },
  {
   "cell_type": "markdown",
   "metadata": {},
   "source": [
    "Luckily for us, we already did the hard work of deriving these formulas.  Now we get to see the fruit of our labor.  The following formulas tell us how to update regression variables of $m$ and $b$ to approach a \"best fit\" line.   "
   ]
  },
  {
   "cell_type": "markdown",
   "metadata": {},
   "source": [
    "* $ \\frac{\\partial J}{\\partial m}J(m,b) = -2\\sum_{i = 1}^n x(y_i - (mx_i + b)) = -2\\sum_{i = 1}^n x_i*\\epsilon_i$ \n",
    "* $ \\frac{\\partial J}{\\partial b}J(m,b) = -2\\sum_{i = 1}^n(y_i - (mx_i + b)) = -2\\sum_{i = 1}^n \\epsilon_i $"
   ]
  },
  {
   "cell_type": "markdown",
   "metadata": {},
   "source": [
    "Given the formulas above, we can work with any dataset of $x$ and $y$ values to determine the best fit line. We simply iterate through our dataset and use the formulas above to determine an update to $m$ and $b$ that will bring us closer to the minimum. So ultimately, to descend along the cost function, we will use the calculations:\n",
    "\n",
    "`current_m` = `old_m` $ -  (-2*\\sum_{i=1}^n x_i*\\epsilon_i )$\n",
    "\n",
    "`current_b` =  `old_b` $ - ( -2*\\sum_{i=1}^n \\epsilon_i )$"
   ]
  },
  {
   "cell_type": "markdown",
   "metadata": {},
   "source": [
    "Ok, let's turn this into code.  First, let's initialize some data."
   ]
  },
  {
   "cell_type": "code",
   "execution_count": 1,
   "metadata": {},
   "outputs": [],
   "source": [
    "# our data\n",
    "first_show = {'x': 30, 'y': 45}\n",
    "second_show = {'x': 40, 'y': 60}\n",
    "third_show = {'x': 100, 'y': 150}\n",
    "\n",
    "shows = [first_show, second_show, third_show]"
   ]
  },
  {
   "cell_type": "markdown",
   "metadata": {},
   "source": [
    "Now we set our initial regression line by initializing $m$ and $b$ to zero.  Then to update our regression line, we iterate through each of the points in the dataset, and at each iteration, change our `update_to_b` by $2*\\epsilon$ and change our `update_to_m` by $2*x*\\epsilon$."
   ]
  },
  {
   "cell_type": "code",
   "execution_count": 13,
   "metadata": {},
   "outputs": [
    {
     "data": {
      "text/plain": [
       "510"
      ]
     },
     "execution_count": 13,
     "metadata": {},
     "output_type": "execute_result"
    }
   ],
   "source": [
    "# initial variables of our regression line\n",
    "b_current = 0\n",
    "m_current = 0\n",
    "\n",
    "# amount to update our variables for our next step\n",
    "update_to_b = 0\n",
    "update_to_m = 0 \n",
    "\n",
    "def error_at(point, b, m):\n",
    "    return point[\"y\"]-(m*point[\"x\"]+b)\n",
    "\n",
    "\n",
    "for i in range(0, len(shows)):\n",
    "    update_to_b += -2*(error_at(shows[i], b_current, m_current))\n",
    "    update_to_m += -2*(error_at(shows[i], b_current, m_current)*shows[i]['x'])\n",
    "\n",
    "new_b = b_current - update_to_b\n",
    "new_m = m_current - update_to_m\n",
    "new_b"
   ]
  },
  {
   "cell_type": "markdown",
   "metadata": {},
   "source": [
    "In the last two lines of the code above, we calculate our `new_b` and `new_m` values by updating our current values and adding our respective updates. We define a function called `error_at`, which we can use in the error component of our partial derivatives above."
   ]
  },
  {
   "cell_type": "markdown",
   "metadata": {},
   "source": [
    "The code above represents **just one** update to our regression line and, therefore, just one step towards our best fit line.  We'll just repeat the process to take multiple steps.  But first we have to make a couple other changes. "
   ]
  },
  {
   "cell_type": "markdown",
   "metadata": {},
   "source": [
    "### Tweaking our approach "
   ]
  },
  {
   "cell_type": "markdown",
   "metadata": {},
   "source": [
    "Ok, the above code is very close to what we want, but we just need to make a few small tweaks before it's perfect.\n",
    "\n",
    "The first one is obvious if we think about what these formulas are really telling us to do.  Look at the graph below, and think about what it means to change each of our $m$ and $b$ variables by at least the sum of all of the errors (the $y_i$ values that our regression line predicts and our actual data).  That would be an enormous change.  To ensure that we do not drastically update our regression line after each step, we multiply each of these partial derivatives by a learning rate.  As we have seen before, the learning rate is just a small number, like $0.0001$, which controls how large our updates to the regression line will be.  The learning rate is represented by the Greek letter eta, $\\eta$, or alpha $\\alpha$.  We'll use eta, so $\\eta = 0.0001$ means the learning rate is $0.0001$.\n",
    "\n",
    "Multiplying our step size by our learning rate works fine, so long as we multiply both of the partial derivatives by the same amount.  This is because with think of our gradient, $ \\nabla J(m,b)$, as steering us in the correct direction. In other words, our derivatives ensure we are making the correct **proportional** changes to $m$ and $b$.  So scaling down these changes to make sure we don't update our regression line too quickly works fine, so long as we keep me moving in the correct direction.  While we're at it, we can also get rid of multiplying our partials by 2.  As mentioned, so long as our changes are proportional we're in good shape. "
   ]
  },
  {
   "cell_type": "markdown",
   "metadata": {},
   "source": [
    "![](./regression-scatter.png)"
   ]
  },
  {
   "cell_type": "markdown",
   "metadata": {},
   "source": [
    "Before discussing our second tweak, note that as the size of the dataset increases, the sum of the errors will also increase.  But this doesn't mean our formulas are less accurate or that they require larger changes.  It just means that the total error is larger. We should really think of accuracy as being proportional to the size of our dataset.  We can correct for this effect by dividing the effect of our update by the size of our dataset, $n$.\n",
    "\n",
    "Making these changes, our formula looks like the following:"
   ]
  },
  {
   "cell_type": "code",
   "execution_count": 5,
   "metadata": {},
   "outputs": [],
   "source": [
    "#amount to update our variables for our next step\n",
    "update_to_b = 0\n",
    "update_to_m = 0 \n",
    "\n",
    "learning_rate = .0001\n",
    "n = len(shows)\n",
    "for i in range(0, n):\n",
    "    \n",
    "    update_to_b += -(1/n)*(error_at(shows[i], b_current, m_current))\n",
    "    update_to_m += -(1/n)*(error_at(shows[i], b_current, m_current)*shows[i]['x'])\n",
    "\n",
    "new_b = b_current - (learning_rate*update_to_b)\n",
    "new_m = m_current - (learning_rate*update_to_m)"
   ]
  },
  {
   "cell_type": "markdown",
   "metadata": {},
   "source": [
    "So our code now reflects everything we know about our gradient descent process: Start with an initial regression line with values of $m$ and $b$.  Then for each point, calculate how the regression line's prediction compares to the actual point (that is, find the error).  Update what our next step to each variable should be by using the partial derivative. And after iterating through all of the points, update the values of $b$ and $m$ appropriately, scaled down by a learning rate."
   ]
  },
  {
   "cell_type": "markdown",
   "metadata": {},
   "source": [
    "### Seeing our gradient descent formulas in action"
   ]
  },
  {
   "cell_type": "markdown",
   "metadata": {},
   "source": [
    "As mentioned earlier, the code above represents just one update to our regression line, and therefore just one step towards our best fit line.  To take multiple steps, we'll wrap the process we want to duplicate in a function called `step_gradient` so we can call that function as much as we want. "
   ]
  },
  {
   "cell_type": "code",
   "execution_count": 6,
   "metadata": {},
   "outputs": [],
   "source": [
    "first_show = {'x': 30, 'y': 45}\n",
    "second_show = {'x': 40, 'y': 60}\n",
    "third_show = {'x': 100, 'y': 150}\n",
    "\n",
    "shows = [first_show, second_show, third_show]\n",
    "\n",
    "def step_gradient(b_current, m_current, points):\n",
    "    b_gradient = 0\n",
    "    m_gradient = 0\n",
    "    learning_rate = .0001\n",
    "    N = float(len(points))\n",
    "    for i in range(0, len(points)):\n",
    "        x = points[i]['x']\n",
    "        y = points[i]['y']\n",
    "        b_gradient += -(1/N) * (y - ((m_current * x) + b_current))\n",
    "        m_gradient += -(1/N) * x * (y - ((m_current * x) + b_current))\n",
    "    new_b = b_current - (learning_rate * b_gradient)\n",
    "    new_m = m_current - (learning_rate * m_gradient)\n",
    "    return {'b': new_b, 'm': new_m}"
   ]
  },
  {
   "cell_type": "code",
   "execution_count": 7,
   "metadata": {},
   "outputs": [
    {
     "data": {
      "text/plain": [
       "{'b': 0.0085, 'm': 0.6249999999999999}"
      ]
     },
     "execution_count": 7,
     "metadata": {},
     "output_type": "execute_result"
    }
   ],
   "source": [
    "b = 0\n",
    "m = 0\n",
    "\n",
    "step_gradient(b, m, shows) # {'b': 0.0085, 'm': 0.6249999999999999}"
   ]
  },
  {
   "cell_type": "markdown",
   "metadata": {},
   "source": [
    "Take a look at the input and output. We begin by setting $b$ and $m$ to 0, 0.  Then from our step_gradient function, we receive new values of $b$ and $m$ of .0085 and .6245.  Now what we need to do, is take another step in the correct direction by calling our step gradient function with our updated values of $b$ and $m$."
   ]
  },
  {
   "cell_type": "code",
   "execution_count": 8,
   "metadata": {},
   "outputs": [
    {
     "data": {
      "text/plain": [
       "{'b': 0.01345805, 'm': 0.9894768333333332}"
      ]
     },
     "execution_count": 8,
     "metadata": {},
     "output_type": "execute_result"
    }
   ],
   "source": [
    "updated_b = 0.0085\n",
    "updated_m = 0.6249\n",
    "step_gradient(updated_b, updated_m, shows) # {'b': 0.01345805, 'm': 0.9894768333333332}"
   ]
  },
  {
   "cell_type": "markdown",
   "metadata": {},
   "source": [
    "Let's do this, say, 10 times."
   ]
  },
  {
   "cell_type": "code",
   "execution_count": 29,
   "metadata": {},
   "outputs": [],
   "source": [
    "# set our initial step with m and b values, and the corresponding error.\n",
    "b = 0\n",
    "m = 0\n",
    "iterations = []\n",
    "for i in range(100):\n",
    "    iteration = step_gradient(b, m, shows)\n",
    "    # {'b': value, 'm': value}\n",
    "    b = iteration['b']\n",
    "    m = iteration['m']\n",
    "    # update values of b and m\n",
    "    iterations.append(iteration)"
   ]
  },
  {
   "cell_type": "markdown",
   "metadata": {},
   "source": [
    "Let's take a look at these iterations."
   ]
  },
  {
   "cell_type": "code",
   "execution_count": 30,
   "metadata": {},
   "outputs": [
    {
     "data": {
      "text/plain": [
       "[{'b': 0.0085, 'm': 0.6249999999999999},\n",
       " {'b': 0.013457483333333336, 'm': 0.9895351666666665},\n",
       " {'b': 0.016348771640555558, 'm': 1.20215258815},\n",
       " {'b': 0.018034938763874835, 'm': 1.3261630333815368},\n",
       " {'b': 0.01901821141416974, 'm': 1.398492904819568},\n",
       " {'b': 0.019591516465717437, 'm': 1.4406797579467343},\n",
       " {'b': 0.019925705352372706, 'm': 1.4652855068756228},\n",
       " {'b': 0.020120428242875608, 'm': 1.4796369666804499},\n",
       " {'b': 0.02023380672219544, 'm': 1.4880075481368862},\n",
       " {'b': 0.020299740568747532, 'm': 1.4928897448417577},\n",
       " {'b': 0.020338002040587364, 'm': 1.495737319294469},\n",
       " {'b': 0.020360123431047983, 'm': 1.497398187576877},\n",
       " {'b': 0.02037283102243591, 'm': 1.4983669020537356},\n",
       " {'b': 0.020380047961029164, 'm': 1.4989319134888854},\n",
       " {'b': 0.020384062446462712, 'm': 1.4992614625967373},\n",
       " {'b': 0.02038620908550322, 'm': 1.4994536768275668},\n",
       " {'b': 0.020387266295905124, 'm': 1.4995657896312629},\n",
       " {'b': 0.02038768809469838, 'm': 1.4996311827758932},\n",
       " {'b': 0.020387739290158847, 'm': 1.4996693263867344},\n",
       " {'b': 0.02038757433337167, 'm': 1.4996915765362842},\n",
       " {'b': 0.020387283308899388, 'm': 1.4997045567249432},\n",
       " {'b': 0.020386918759127154, 'm': 1.4997121301507996},\n",
       " {'b': 0.02038651132973004, 'm': 1.4997165500483314},\n",
       " {'b': 0.02038607889498986, 'm': 1.499719130630658},\n",
       " {'b': 0.020385631880193298, 'm': 1.4997206384208122},\n",
       " {'b': 0.020385176365954008, 'm': 1.4997215204981527},\n",
       " {'b': 0.02038471589882788, 'm': 1.4997220376245153},\n",
       " {'b': 0.020384252547365745, 'm': 1.4997223418908738},\n",
       " {'b': 0.020383787518062725, 'm': 1.4997225220052415},\n",
       " {'b': 0.020383321514614552, 'm': 1.499722629707122},\n",
       " {'b': 0.020382854947456067, 'm': 1.499722695173905},\n",
       " {'b': 0.02038238805597586, 'm': 1.4997227360067424},\n",
       " {'b': 0.020381920979798723, 'm': 1.4997227624716158},\n",
       " {'b': 0.020381453800361587, 'm': 1.4997227805562239},\n",
       " {'b': 0.020380986565162948, 'm': 1.4997227937529285},\n",
       " {'b': 0.020380519301906503, 'm': 1.4997228040986723},\n",
       " {'b': 0.020380052026750504, 'm': 1.4997228127815148},\n",
       " {'b': 0.020379584749119245, 'm': 1.4997228204943986},\n",
       " {'b': 0.020379117474509406, 'm': 1.4997228276414876},\n",
       " {'b': 0.02037865020612686, 'm': 1.4997228344585123},\n",
       " {'b': 0.020378182945841344, 'm': 1.4997228410829642},\n",
       " {'b': 0.020377715694743295, 'm': 1.499722847595036},\n",
       " {'b': 0.020377248453468617, 'm': 1.4997228540415009},\n",
       " {'b': 0.020376781222388098, 'm': 1.4997228604496393},\n",
       " {'b': 0.020376314001717903, 'm': 1.4997228668353628},\n",
       " {'b': 0.02037584679158401, 'm': 1.499722873207952},\n",
       " {'b': 0.02037537959205979, 'm': 1.4997228795728197},\n",
       " {'b': 0.02037491240318794, 'm': 1.499722885933123},\n",
       " {'b': 0.020374445224993258, 'm': 1.4997228922907038},\n",
       " {'b': 0.020373978057490104, 'm': 1.4997228986466355},\n",
       " {'b': 0.020373510900686752, 'm': 1.499722905001545},\n",
       " {'b': 0.020373043754587927, 'm': 1.4997229113557973},\n",
       " {'b': 0.020372576619196284, 'm': 1.4997229177096059},\n",
       " {'b': 0.020372109494513263, 'm': 1.4997229240630947},\n",
       " {'b': 0.02037164238053961, 'm': 1.4997229304163364},\n",
       " {'b': 0.02037117527727565, 'm': 1.4997229367693732},\n",
       " {'b': 0.020370708184721472, 'm': 1.4997229431222299},\n",
       " {'b': 0.02037024110287703, 'm': 1.4997229494749207},\n",
       " {'b': 0.020369774031742192, 'm': 1.499722955827454},\n",
       " {'b': 0.020369306971316777, 'm': 1.4997229621798351},\n",
       " {'b': 0.02036883992160058, 'm': 1.4997229685320663},\n",
       " {'b': 0.020368372882593376, 'm': 1.4997229748841496},\n",
       " {'b': 0.020367905854294936, 'm': 1.499722981236086},\n",
       " {'b': 0.02036743883670502, 'm': 1.4997229875878757},\n",
       " {'b': 0.020366971829823388, 'm': 1.4997229939395196},\n",
       " {'b': 0.020366504833649796, 'm': 1.4997230002910173},\n",
       " {'b': 0.020366037848184, 'm': 1.4997230066423695},\n",
       " {'b': 0.020365570873425755, 'm': 1.499723012993576},\n",
       " {'b': 0.020365103909374817, 'm': 1.4997230193446365},\n",
       " {'b': 0.02036463695603094, 'm': 1.4997230256955516},\n",
       " {'b': 0.020364170013393877, 'm': 1.4997230320463208},\n",
       " {'b': 0.02036370308146339, 'm': 1.4997230383969447},\n",
       " {'b': 0.02036323616023922, 'm': 1.4997230447474228},\n",
       " {'b': 0.020362769249721135, 'm': 1.4997230510977553},\n",
       " {'b': 0.020362302349908882, 'm': 1.499723057447942},\n",
       " {'b': 0.02036183546080222, 'm': 1.4997230637979835},\n",
       " {'b': 0.020361368582400903, 'm': 1.4997230701478792},\n",
       " {'b': 0.02036090171470468, 'm': 1.4997230764976293},\n",
       " {'b': 0.020360434857713314, 'm': 1.4997230828472337},\n",
       " {'b': 0.020359968011426553, 'm': 1.4997230891966926},\n",
       " {'b': 0.02035950117584415, 'm': 1.499723095546006},\n",
       " {'b': 0.020359034350965866, 'm': 1.4997231018951735},\n",
       " {'b': 0.020358567536791453, 'm': 1.4997231082441957},\n",
       " {'b': 0.020358100733320665, 'm': 1.4997231145930725},\n",
       " {'b': 0.020357633940553257, 'm': 1.4997231209418034},\n",
       " {'b': 0.02035716715848898, 'm': 1.4997231272903888},\n",
       " {'b': 0.020356700387127596, 'm': 1.4997231336388286},\n",
       " {'b': 0.020356233626468854, 'm': 1.499723139987123},\n",
       " {'b': 0.02035576687651251, 'm': 1.4997231463352718},\n",
       " {'b': 0.020355300137258316, 'm': 1.4997231526832748},\n",
       " {'b': 0.020354833408706034, 'm': 1.4997231590311324},\n",
       " {'b': 0.020354366690855413, 'm': 1.4997231653788445},\n",
       " {'b': 0.02035389998370621, 'm': 1.499723171726411},\n",
       " {'b': 0.020353433287258176, 'm': 1.499723178073832},\n",
       " {'b': 0.02035296660151107, 'm': 1.4997231844211076},\n",
       " {'b': 0.02035249992646464, 'm': 1.4997231907682376},\n",
       " {'b': 0.020352033262118648, 'm': 1.4997231971152218},\n",
       " {'b': 0.020351566608472847, 'm': 1.4997232034620607},\n",
       " {'b': 0.02035109996552699, 'm': 1.499723209808754},\n",
       " {'b': 0.02035063333328083, 'm': 1.499723216155302}]"
      ]
     },
     "execution_count": 30,
     "metadata": {},
     "output_type": "execute_result"
    }
   ],
   "source": [
    "iterations"
   ]
  },
  {
   "cell_type": "markdown",
   "metadata": {},
   "source": [
    "As you can see, our $m$ and $b$ values both update with each step.  Not only that, but with each step, the size of the changes to $m$ and $b$ decrease.  This is because they are approaching a best fit line."
   ]
  },
  {
   "cell_type": "markdown",
   "metadata": {},
   "source": [
    "###  Animating these changes"
   ]
  },
  {
   "cell_type": "markdown",
   "metadata": {},
   "source": [
    "We can use Plotly to see these changes to our regression line visually.  We'll write a method called `to_line` that takes a dictionary of $m$ and $b$ variables and changes it to produce a line object.  We can then see how our line changes over time. "
   ]
  },
  {
   "cell_type": "code",
   "execution_count": 26,
   "metadata": {},
   "outputs": [
    {
     "data": {
      "text/plain": [
       "[{'data': [{'x': [0, 100], 'y': [0.0085, 62.508499999999984]}]},\n",
       " {'data': [{'x': [0, 100], 'y': [0.013457483333333336, 98.96697415]}]},\n",
       " {'data': [{'x': [0, 100], 'y': [0.016348771640555558, 120.23160758664055]}]},\n",
       " {'data': [{'x': [0, 100], 'y': [0.018034938763874835, 132.63433827691753]}]},\n",
       " {'data': [{'x': [0, 100], 'y': [0.01901821141416974, 139.86830869337098]}]},\n",
       " {'data': [{'x': [0, 100], 'y': [0.019591516465717437, 144.08756731113914]}]},\n",
       " {'data': [{'x': [0, 100], 'y': [0.019925705352372706, 146.54847639291464]}]},\n",
       " {'data': [{'x': [0, 100], 'y': [0.020120428242875608, 147.98381709628785]}]},\n",
       " {'data': [{'x': [0, 100], 'y': [0.02023380672219544, 148.82098862041082]}]},\n",
       " {'data': [{'x': [0, 100], 'y': [0.020299740568747532, 149.30927422474454]}]},\n",
       " {'data': [{'x': [0, 100], 'y': [0.020338002040587364, 149.59406993148747]}]},\n",
       " {'data': [{'x': [0, 100], 'y': [0.020360123431047983, 149.76017888111875]}]},\n",
       " {'data': [{'x': [0, 100], 'y': [0.02037283102243591, 149.85706303639597]}]},\n",
       " {'data': [{'x': [0, 100], 'y': [0.020380047961029164, 149.91357139684956]}]},\n",
       " {'data': [{'x': [0, 100], 'y': [0.020384062446462712, 149.9465303221202]}]},\n",
       " {'data': [{'x': [0, 100], 'y': [0.02038620908550322, 149.96575389184218]}]},\n",
       " {'data': [{'x': [0, 100], 'y': [0.020387266295905124, 149.97696622942217]}]},\n",
       " {'data': [{'x': [0, 100], 'y': [0.02038768809469838, 149.98350596568403]}]},\n",
       " {'data': [{'x': [0, 100], 'y': [0.020387739290158847, 149.9873203779636]}]},\n",
       " {'data': [{'x': [0, 100], 'y': [0.02038757433337167, 149.9895452279618]}]},\n",
       " {'data': [{'x': [0, 100], 'y': [0.020387283308899388, 149.99084295580323]}]},\n",
       " {'data': [{'x': [0, 100], 'y': [0.020386918759127154, 149.9915999338391]}]},\n",
       " {'data': [{'x': [0, 100], 'y': [0.02038651132973004, 149.99204151616286]}]},\n",
       " {'data': [{'x': [0, 100], 'y': [0.02038607889498986, 149.9922991419608]}]},\n",
       " {'data': [{'x': [0, 100], 'y': [0.020385631880193298, 149.99244947396141]}]},\n",
       " {'data': [{'x': [0, 100], 'y': [0.020385176365954008, 149.9925372261812]}]},\n",
       " {'data': [{'x': [0, 100], 'y': [0.02038471589882788, 149.99258847835034]}]},\n",
       " {'data': [{'x': [0, 100], 'y': [0.020384252547365745, 149.99261844163473]}]},\n",
       " {'data': [{'x': [0, 100], 'y': [0.020383787518062725, 149.9926359880422]}]},\n",
       " {'data': [{'x': [0, 100], 'y': [0.020383321514614552, 149.9926462922268]}]},\n",
       " {'data': [{'x': [0, 100], 'y': [0.020382854947456067, 149.99265237233797]}]},\n",
       " {'data': [{'x': [0, 100], 'y': [0.02038238805597586, 149.9926559887302]}]},\n",
       " {'data': [{'x': [0, 100], 'y': [0.020381920979798723, 149.99265816814136]}]},\n",
       " {'data': [{'x': [0, 100], 'y': [0.020381453800361587, 149.99265950942274]}]},\n",
       " {'data': [{'x': [0, 100], 'y': [0.020380986565162948, 149.99266036185801]}]},\n",
       " {'data': [{'x': [0, 100], 'y': [0.020380519301906503, 149.99266092916915]}]},\n",
       " {'data': [{'x': [0, 100], 'y': [0.020380052026750504, 149.99266133017824]}]},\n",
       " {'data': [{'x': [0, 100], 'y': [0.020379584749119245, 149.99266163418898]}]},\n",
       " {'data': [{'x': [0, 100], 'y': [0.020379117474509406, 149.99266188162326]}]},\n",
       " {'data': [{'x': [0, 100], 'y': [0.02037865020612686, 149.99266209605736]}]},\n",
       " {'data': [{'x': [0, 100], 'y': [0.020378182945841344, 149.99266229124225]}]},\n",
       " {'data': [{'x': [0, 100], 'y': [0.020377715694743295, 149.99266247519833]}]},\n",
       " {'data': [{'x': [0, 100], 'y': [0.020377248453468617, 149.99266265260354]}]},\n",
       " {'data': [{'x': [0, 100], 'y': [0.020376781222388098, 149.99266282618632]}]},\n",
       " {'data': [{'x': [0, 100], 'y': [0.020376314001717903, 149.992662997538]}]},\n",
       " {'data': [{'x': [0, 100], 'y': [0.02037584679158401, 149.99266316758678]}]},\n",
       " {'data': [{'x': [0, 100], 'y': [0.02037537959205979, 149.99266333687402]}]},\n",
       " {'data': [{'x': [0, 100], 'y': [0.02037491240318794, 149.99266350571548]}]},\n",
       " {'data': [{'x': [0, 100], 'y': [0.020374445224993258, 149.9926636742954]}]},\n",
       " {'data': [{'x': [0, 100], 'y': [0.020373978057490104, 149.99266384272104]}]},\n",
       " {'data': [{'x': [0, 100], 'y': [0.020373510900686752, 149.9926640110552]}]},\n",
       " {'data': [{'x': [0, 100], 'y': [0.020373043754587927, 149.9926641793343]}]},\n",
       " {'data': [{'x': [0, 100], 'y': [0.020372576619196284, 149.9926643475798]}]},\n",
       " {'data': [{'x': [0, 100], 'y': [0.020372109494513263, 149.99266451580397]}]},\n",
       " {'data': [{'x': [0, 100], 'y': [0.02037164238053961, 149.9926646840142]}]},\n",
       " {'data': [{'x': [0, 100], 'y': [0.02037117527727565, 149.99266485221457]}]},\n",
       " {'data': [{'x': [0, 100], 'y': [0.020370708184721472, 149.9926650204077]}]},\n",
       " {'data': [{'x': [0, 100], 'y': [0.02037024110287703, 149.99266518859494]}]},\n",
       " {'data': [{'x': [0, 100], 'y': [0.020369774031742192, 149.99266535677714]}]},\n",
       " {'data': [{'x': [0, 100], 'y': [0.020369306971316777, 149.99266552495482]}]},\n",
       " {'data': [{'x': [0, 100], 'y': [0.02036883992160058, 149.99266569312823]}]},\n",
       " {'data': [{'x': [0, 100], 'y': [0.020368372882593376, 149.99266586129755]}]},\n",
       " {'data': [{'x': [0, 100], 'y': [0.020367905854294936, 149.9926660294629]}]},\n",
       " {'data': [{'x': [0, 100], 'y': [0.02036743883670502, 149.99266619762426]}]},\n",
       " {'data': [{'x': [0, 100], 'y': [0.020366971829823388, 149.9926663657818]}]},\n",
       " {'data': [{'x': [0, 100], 'y': [0.020366504833649796, 149.9926665339354]}]},\n",
       " {'data': [{'x': [0, 100], 'y': [0.020366037848184, 149.99266670208513]}]},\n",
       " {'data': [{'x': [0, 100], 'y': [0.020365570873425755, 149.992666870231]}]},\n",
       " {'data': [{'x': [0, 100], 'y': [0.020365103909374817, 149.992667038373]}]},\n",
       " {'data': [{'x': [0, 100], 'y': [0.02036463695603094, 149.9926672065112]}]},\n",
       " {'data': [{'x': [0, 100], 'y': [0.020364170013393877, 149.99266737464546]}]},\n",
       " {'data': [{'x': [0, 100], 'y': [0.02036370308146339, 149.99266754277593]}]},\n",
       " {'data': [{'x': [0, 100], 'y': [0.02036323616023922, 149.99266771090254]}]},\n",
       " {'data': [{'x': [0, 100], 'y': [0.020362769249721135, 149.99266787902525]}]},\n",
       " {'data': [{'x': [0, 100], 'y': [0.020362302349908882, 149.9926680471441]}]},\n",
       " {'data': [{'x': [0, 100], 'y': [0.02036183546080222, 149.99266821525913]}]},\n",
       " {'data': [{'x': [0, 100], 'y': [0.020361368582400903, 149.99266838337033]}]},\n",
       " {'data': [{'x': [0, 100], 'y': [0.02036090171470468, 149.99266855147764]}]},\n",
       " {'data': [{'x': [0, 100], 'y': [0.020360434857713314, 149.99266871958108]}]},\n",
       " {'data': [{'x': [0, 100], 'y': [0.020359968011426553, 149.9926688876807]}]},\n",
       " {'data': [{'x': [0, 100], 'y': [0.02035950117584415, 149.99266905577645]}]},\n",
       " {'data': [{'x': [0, 100], 'y': [0.020359034350965866, 149.99266922386832]}]},\n",
       " {'data': [{'x': [0, 100], 'y': [0.020358567536791453, 149.99266939195635]}]},\n",
       " {'data': [{'x': [0, 100], 'y': [0.020358100733320665, 149.99266956004058]}]},\n",
       " {'data': [{'x': [0, 100], 'y': [0.020357633940553257, 149.9926697281209]}]},\n",
       " {'data': [{'x': [0, 100], 'y': [0.02035716715848898, 149.99266989619738]}]},\n",
       " {'data': [{'x': [0, 100], 'y': [0.020356700387127596, 149.99267006427]}]},\n",
       " {'data': [{'x': [0, 100], 'y': [0.020356233626468854, 149.99267023233875]}]},\n",
       " {'data': [{'x': [0, 100], 'y': [0.02035576687651251, 149.9926704004037]}]},\n",
       " {'data': [{'x': [0, 100], 'y': [0.020355300137258316, 149.99267056846475]}]},\n",
       " {'data': [{'x': [0, 100], 'y': [0.020354833408706034, 149.99267073652194]}]},\n",
       " {'data': [{'x': [0, 100], 'y': [0.020354366690855413, 149.99267090457533]}]},\n",
       " {'data': [{'x': [0, 100], 'y': [0.02035389998370621, 149.99267107262483]}]},\n",
       " {'data': [{'x': [0, 100], 'y': [0.020353433287258176, 149.99267124067046]}]},\n",
       " {'data': [{'x': [0, 100], 'y': [0.02035296660151107, 149.99267140871228]}]},\n",
       " {'data': [{'x': [0, 100], 'y': [0.02035249992646464, 149.99267157675024]}]},\n",
       " {'data': [{'x': [0, 100], 'y': [0.020352033262118648, 149.9926717447843]}]},\n",
       " {'data': [{'x': [0, 100], 'y': [0.020351566608472847, 149.99267191281453]}]},\n",
       " {'data': [{'x': [0, 100], 'y': [0.02035109996552699, 149.99267208084092]}]},\n",
       " {'data': [{'x': [0, 100], 'y': [0.02035063333328083, 149.9926722488635]}]}]"
      ]
     },
     "execution_count": 26,
     "metadata": {},
     "output_type": "execute_result"
    }
   ],
   "source": [
    "def to_line(m, b):\n",
    "    initial_x = 0\n",
    "    ending_x = 100\n",
    "    initial_y = m*initial_x + b\n",
    "    ending_y = m*ending_x + b\n",
    "    return {'data': [{'x': [initial_x, ending_x], 'y': [initial_y, ending_y]}]}\n",
    "\n",
    "frames = list(map(lambda iteration: to_line(iteration['m'], iteration['b']),iterations))\n",
    "frames"
   ]
  },
  {
   "cell_type": "markdown",
   "metadata": {},
   "source": [
    "Now we can see how our regression line changes, and approaches a better model of our data, with each iteration."
   ]
  },
  {
   "cell_type": "code",
   "execution_count": 27,
   "metadata": {},
   "outputs": [
    {
     "data": {
      "text/html": [
       "        <script type=\"text/javascript\">\n",
       "        window.PlotlyConfig = {MathJaxConfig: 'local'};\n",
       "        if (window.MathJax) {MathJax.Hub.Config({SVG: {font: \"STIX-Web\"}});}\n",
       "        if (typeof require !== 'undefined') {\n",
       "        require.undef(\"plotly\");\n",
       "        requirejs.config({\n",
       "            paths: {\n",
       "                'plotly': ['https://cdn.plot.ly/plotly-latest.min']\n",
       "            }\n",
       "        });\n",
       "        require(['plotly'], function(Plotly) {\n",
       "            window._Plotly = Plotly;\n",
       "        });\n",
       "        }\n",
       "        </script>\n",
       "        "
      ]
     },
     "metadata": {},
     "output_type": "display_data"
    },
    {
     "data": {
      "application/vnd.plotly.v1+json": {
       "config": {
        "linkText": "Export to plot.ly",
        "plotlyServerURL": "https://plot.ly",
        "showLink": false
       },
       "data": [
        {
         "type": "scatter",
         "x": [
          0
         ],
         "y": [
          0
         ]
        },
        {
         "mode": "markers",
         "type": "scatter",
         "x": [
          30,
          40,
          100
         ],
         "y": [
          45,
          60,
          150
         ]
        }
       ],
       "frames": [
        {
         "data": [
          {
           "type": "scatter",
           "x": [
            0,
            100
           ],
           "y": [
            0.0085,
            62.508499999999984
           ]
          }
         ]
        },
        {
         "data": [
          {
           "type": "scatter",
           "x": [
            0,
            100
           ],
           "y": [
            0.013457483333333336,
            98.96697415
           ]
          }
         ]
        },
        {
         "data": [
          {
           "type": "scatter",
           "x": [
            0,
            100
           ],
           "y": [
            0.016348771640555558,
            120.23160758664055
           ]
          }
         ]
        },
        {
         "data": [
          {
           "type": "scatter",
           "x": [
            0,
            100
           ],
           "y": [
            0.018034938763874835,
            132.63433827691753
           ]
          }
         ]
        },
        {
         "data": [
          {
           "type": "scatter",
           "x": [
            0,
            100
           ],
           "y": [
            0.01901821141416974,
            139.86830869337098
           ]
          }
         ]
        },
        {
         "data": [
          {
           "type": "scatter",
           "x": [
            0,
            100
           ],
           "y": [
            0.019591516465717437,
            144.08756731113914
           ]
          }
         ]
        },
        {
         "data": [
          {
           "type": "scatter",
           "x": [
            0,
            100
           ],
           "y": [
            0.019925705352372706,
            146.54847639291464
           ]
          }
         ]
        },
        {
         "data": [
          {
           "type": "scatter",
           "x": [
            0,
            100
           ],
           "y": [
            0.020120428242875608,
            147.98381709628785
           ]
          }
         ]
        },
        {
         "data": [
          {
           "type": "scatter",
           "x": [
            0,
            100
           ],
           "y": [
            0.02023380672219544,
            148.82098862041082
           ]
          }
         ]
        },
        {
         "data": [
          {
           "type": "scatter",
           "x": [
            0,
            100
           ],
           "y": [
            0.020299740568747532,
            149.30927422474454
           ]
          }
         ]
        },
        {
         "data": [
          {
           "type": "scatter",
           "x": [
            0,
            100
           ],
           "y": [
            0.020338002040587364,
            149.59406993148747
           ]
          }
         ]
        },
        {
         "data": [
          {
           "type": "scatter",
           "x": [
            0,
            100
           ],
           "y": [
            0.020360123431047983,
            149.76017888111875
           ]
          }
         ]
        },
        {
         "data": [
          {
           "type": "scatter",
           "x": [
            0,
            100
           ],
           "y": [
            0.02037283102243591,
            149.85706303639597
           ]
          }
         ]
        },
        {
         "data": [
          {
           "type": "scatter",
           "x": [
            0,
            100
           ],
           "y": [
            0.020380047961029164,
            149.91357139684956
           ]
          }
         ]
        },
        {
         "data": [
          {
           "type": "scatter",
           "x": [
            0,
            100
           ],
           "y": [
            0.020384062446462712,
            149.9465303221202
           ]
          }
         ]
        },
        {
         "data": [
          {
           "type": "scatter",
           "x": [
            0,
            100
           ],
           "y": [
            0.02038620908550322,
            149.96575389184218
           ]
          }
         ]
        },
        {
         "data": [
          {
           "type": "scatter",
           "x": [
            0,
            100
           ],
           "y": [
            0.020387266295905124,
            149.97696622942217
           ]
          }
         ]
        },
        {
         "data": [
          {
           "type": "scatter",
           "x": [
            0,
            100
           ],
           "y": [
            0.02038768809469838,
            149.98350596568403
           ]
          }
         ]
        },
        {
         "data": [
          {
           "type": "scatter",
           "x": [
            0,
            100
           ],
           "y": [
            0.020387739290158847,
            149.9873203779636
           ]
          }
         ]
        },
        {
         "data": [
          {
           "type": "scatter",
           "x": [
            0,
            100
           ],
           "y": [
            0.02038757433337167,
            149.9895452279618
           ]
          }
         ]
        },
        {
         "data": [
          {
           "type": "scatter",
           "x": [
            0,
            100
           ],
           "y": [
            0.020387283308899388,
            149.99084295580323
           ]
          }
         ]
        },
        {
         "data": [
          {
           "type": "scatter",
           "x": [
            0,
            100
           ],
           "y": [
            0.020386918759127154,
            149.9915999338391
           ]
          }
         ]
        },
        {
         "data": [
          {
           "type": "scatter",
           "x": [
            0,
            100
           ],
           "y": [
            0.02038651132973004,
            149.99204151616286
           ]
          }
         ]
        },
        {
         "data": [
          {
           "type": "scatter",
           "x": [
            0,
            100
           ],
           "y": [
            0.02038607889498986,
            149.9922991419608
           ]
          }
         ]
        },
        {
         "data": [
          {
           "type": "scatter",
           "x": [
            0,
            100
           ],
           "y": [
            0.020385631880193298,
            149.99244947396141
           ]
          }
         ]
        },
        {
         "data": [
          {
           "type": "scatter",
           "x": [
            0,
            100
           ],
           "y": [
            0.020385176365954008,
            149.9925372261812
           ]
          }
         ]
        },
        {
         "data": [
          {
           "type": "scatter",
           "x": [
            0,
            100
           ],
           "y": [
            0.02038471589882788,
            149.99258847835034
           ]
          }
         ]
        },
        {
         "data": [
          {
           "type": "scatter",
           "x": [
            0,
            100
           ],
           "y": [
            0.020384252547365745,
            149.99261844163473
           ]
          }
         ]
        },
        {
         "data": [
          {
           "type": "scatter",
           "x": [
            0,
            100
           ],
           "y": [
            0.020383787518062725,
            149.9926359880422
           ]
          }
         ]
        },
        {
         "data": [
          {
           "type": "scatter",
           "x": [
            0,
            100
           ],
           "y": [
            0.020383321514614552,
            149.9926462922268
           ]
          }
         ]
        },
        {
         "data": [
          {
           "type": "scatter",
           "x": [
            0,
            100
           ],
           "y": [
            0.020382854947456067,
            149.99265237233797
           ]
          }
         ]
        },
        {
         "data": [
          {
           "type": "scatter",
           "x": [
            0,
            100
           ],
           "y": [
            0.02038238805597586,
            149.9926559887302
           ]
          }
         ]
        },
        {
         "data": [
          {
           "type": "scatter",
           "x": [
            0,
            100
           ],
           "y": [
            0.020381920979798723,
            149.99265816814136
           ]
          }
         ]
        },
        {
         "data": [
          {
           "type": "scatter",
           "x": [
            0,
            100
           ],
           "y": [
            0.020381453800361587,
            149.99265950942274
           ]
          }
         ]
        },
        {
         "data": [
          {
           "type": "scatter",
           "x": [
            0,
            100
           ],
           "y": [
            0.020380986565162948,
            149.99266036185801
           ]
          }
         ]
        },
        {
         "data": [
          {
           "type": "scatter",
           "x": [
            0,
            100
           ],
           "y": [
            0.020380519301906503,
            149.99266092916915
           ]
          }
         ]
        },
        {
         "data": [
          {
           "type": "scatter",
           "x": [
            0,
            100
           ],
           "y": [
            0.020380052026750504,
            149.99266133017824
           ]
          }
         ]
        },
        {
         "data": [
          {
           "type": "scatter",
           "x": [
            0,
            100
           ],
           "y": [
            0.020379584749119245,
            149.99266163418898
           ]
          }
         ]
        },
        {
         "data": [
          {
           "type": "scatter",
           "x": [
            0,
            100
           ],
           "y": [
            0.020379117474509406,
            149.99266188162326
           ]
          }
         ]
        },
        {
         "data": [
          {
           "type": "scatter",
           "x": [
            0,
            100
           ],
           "y": [
            0.02037865020612686,
            149.99266209605736
           ]
          }
         ]
        },
        {
         "data": [
          {
           "type": "scatter",
           "x": [
            0,
            100
           ],
           "y": [
            0.020378182945841344,
            149.99266229124225
           ]
          }
         ]
        },
        {
         "data": [
          {
           "type": "scatter",
           "x": [
            0,
            100
           ],
           "y": [
            0.020377715694743295,
            149.99266247519833
           ]
          }
         ]
        },
        {
         "data": [
          {
           "type": "scatter",
           "x": [
            0,
            100
           ],
           "y": [
            0.020377248453468617,
            149.99266265260354
           ]
          }
         ]
        },
        {
         "data": [
          {
           "type": "scatter",
           "x": [
            0,
            100
           ],
           "y": [
            0.020376781222388098,
            149.99266282618632
           ]
          }
         ]
        },
        {
         "data": [
          {
           "type": "scatter",
           "x": [
            0,
            100
           ],
           "y": [
            0.020376314001717903,
            149.992662997538
           ]
          }
         ]
        },
        {
         "data": [
          {
           "type": "scatter",
           "x": [
            0,
            100
           ],
           "y": [
            0.02037584679158401,
            149.99266316758678
           ]
          }
         ]
        },
        {
         "data": [
          {
           "type": "scatter",
           "x": [
            0,
            100
           ],
           "y": [
            0.02037537959205979,
            149.99266333687402
           ]
          }
         ]
        },
        {
         "data": [
          {
           "type": "scatter",
           "x": [
            0,
            100
           ],
           "y": [
            0.02037491240318794,
            149.99266350571548
           ]
          }
         ]
        },
        {
         "data": [
          {
           "type": "scatter",
           "x": [
            0,
            100
           ],
           "y": [
            0.020374445224993258,
            149.9926636742954
           ]
          }
         ]
        },
        {
         "data": [
          {
           "type": "scatter",
           "x": [
            0,
            100
           ],
           "y": [
            0.020373978057490104,
            149.99266384272104
           ]
          }
         ]
        },
        {
         "data": [
          {
           "type": "scatter",
           "x": [
            0,
            100
           ],
           "y": [
            0.020373510900686752,
            149.9926640110552
           ]
          }
         ]
        },
        {
         "data": [
          {
           "type": "scatter",
           "x": [
            0,
            100
           ],
           "y": [
            0.020373043754587927,
            149.9926641793343
           ]
          }
         ]
        },
        {
         "data": [
          {
           "type": "scatter",
           "x": [
            0,
            100
           ],
           "y": [
            0.020372576619196284,
            149.9926643475798
           ]
          }
         ]
        },
        {
         "data": [
          {
           "type": "scatter",
           "x": [
            0,
            100
           ],
           "y": [
            0.020372109494513263,
            149.99266451580397
           ]
          }
         ]
        },
        {
         "data": [
          {
           "type": "scatter",
           "x": [
            0,
            100
           ],
           "y": [
            0.02037164238053961,
            149.9926646840142
           ]
          }
         ]
        },
        {
         "data": [
          {
           "type": "scatter",
           "x": [
            0,
            100
           ],
           "y": [
            0.02037117527727565,
            149.99266485221457
           ]
          }
         ]
        },
        {
         "data": [
          {
           "type": "scatter",
           "x": [
            0,
            100
           ],
           "y": [
            0.020370708184721472,
            149.9926650204077
           ]
          }
         ]
        },
        {
         "data": [
          {
           "type": "scatter",
           "x": [
            0,
            100
           ],
           "y": [
            0.02037024110287703,
            149.99266518859494
           ]
          }
         ]
        },
        {
         "data": [
          {
           "type": "scatter",
           "x": [
            0,
            100
           ],
           "y": [
            0.020369774031742192,
            149.99266535677714
           ]
          }
         ]
        },
        {
         "data": [
          {
           "type": "scatter",
           "x": [
            0,
            100
           ],
           "y": [
            0.020369306971316777,
            149.99266552495482
           ]
          }
         ]
        },
        {
         "data": [
          {
           "type": "scatter",
           "x": [
            0,
            100
           ],
           "y": [
            0.02036883992160058,
            149.99266569312823
           ]
          }
         ]
        },
        {
         "data": [
          {
           "type": "scatter",
           "x": [
            0,
            100
           ],
           "y": [
            0.020368372882593376,
            149.99266586129755
           ]
          }
         ]
        },
        {
         "data": [
          {
           "type": "scatter",
           "x": [
            0,
            100
           ],
           "y": [
            0.020367905854294936,
            149.9926660294629
           ]
          }
         ]
        },
        {
         "data": [
          {
           "type": "scatter",
           "x": [
            0,
            100
           ],
           "y": [
            0.02036743883670502,
            149.99266619762426
           ]
          }
         ]
        },
        {
         "data": [
          {
           "type": "scatter",
           "x": [
            0,
            100
           ],
           "y": [
            0.020366971829823388,
            149.9926663657818
           ]
          }
         ]
        },
        {
         "data": [
          {
           "type": "scatter",
           "x": [
            0,
            100
           ],
           "y": [
            0.020366504833649796,
            149.9926665339354
           ]
          }
         ]
        },
        {
         "data": [
          {
           "type": "scatter",
           "x": [
            0,
            100
           ],
           "y": [
            0.020366037848184,
            149.99266670208513
           ]
          }
         ]
        },
        {
         "data": [
          {
           "type": "scatter",
           "x": [
            0,
            100
           ],
           "y": [
            0.020365570873425755,
            149.992666870231
           ]
          }
         ]
        },
        {
         "data": [
          {
           "type": "scatter",
           "x": [
            0,
            100
           ],
           "y": [
            0.020365103909374817,
            149.992667038373
           ]
          }
         ]
        },
        {
         "data": [
          {
           "type": "scatter",
           "x": [
            0,
            100
           ],
           "y": [
            0.02036463695603094,
            149.9926672065112
           ]
          }
         ]
        },
        {
         "data": [
          {
           "type": "scatter",
           "x": [
            0,
            100
           ],
           "y": [
            0.020364170013393877,
            149.99266737464546
           ]
          }
         ]
        },
        {
         "data": [
          {
           "type": "scatter",
           "x": [
            0,
            100
           ],
           "y": [
            0.02036370308146339,
            149.99266754277593
           ]
          }
         ]
        },
        {
         "data": [
          {
           "type": "scatter",
           "x": [
            0,
            100
           ],
           "y": [
            0.02036323616023922,
            149.99266771090254
           ]
          }
         ]
        },
        {
         "data": [
          {
           "type": "scatter",
           "x": [
            0,
            100
           ],
           "y": [
            0.020362769249721135,
            149.99266787902525
           ]
          }
         ]
        },
        {
         "data": [
          {
           "type": "scatter",
           "x": [
            0,
            100
           ],
           "y": [
            0.020362302349908882,
            149.9926680471441
           ]
          }
         ]
        },
        {
         "data": [
          {
           "type": "scatter",
           "x": [
            0,
            100
           ],
           "y": [
            0.02036183546080222,
            149.99266821525913
           ]
          }
         ]
        },
        {
         "data": [
          {
           "type": "scatter",
           "x": [
            0,
            100
           ],
           "y": [
            0.020361368582400903,
            149.99266838337033
           ]
          }
         ]
        },
        {
         "data": [
          {
           "type": "scatter",
           "x": [
            0,
            100
           ],
           "y": [
            0.02036090171470468,
            149.99266855147764
           ]
          }
         ]
        },
        {
         "data": [
          {
           "type": "scatter",
           "x": [
            0,
            100
           ],
           "y": [
            0.020360434857713314,
            149.99266871958108
           ]
          }
         ]
        },
        {
         "data": [
          {
           "type": "scatter",
           "x": [
            0,
            100
           ],
           "y": [
            0.020359968011426553,
            149.9926688876807
           ]
          }
         ]
        },
        {
         "data": [
          {
           "type": "scatter",
           "x": [
            0,
            100
           ],
           "y": [
            0.02035950117584415,
            149.99266905577645
           ]
          }
         ]
        },
        {
         "data": [
          {
           "type": "scatter",
           "x": [
            0,
            100
           ],
           "y": [
            0.020359034350965866,
            149.99266922386832
           ]
          }
         ]
        },
        {
         "data": [
          {
           "type": "scatter",
           "x": [
            0,
            100
           ],
           "y": [
            0.020358567536791453,
            149.99266939195635
           ]
          }
         ]
        },
        {
         "data": [
          {
           "type": "scatter",
           "x": [
            0,
            100
           ],
           "y": [
            0.020358100733320665,
            149.99266956004058
           ]
          }
         ]
        },
        {
         "data": [
          {
           "type": "scatter",
           "x": [
            0,
            100
           ],
           "y": [
            0.020357633940553257,
            149.9926697281209
           ]
          }
         ]
        },
        {
         "data": [
          {
           "type": "scatter",
           "x": [
            0,
            100
           ],
           "y": [
            0.02035716715848898,
            149.99266989619738
           ]
          }
         ]
        },
        {
         "data": [
          {
           "type": "scatter",
           "x": [
            0,
            100
           ],
           "y": [
            0.020356700387127596,
            149.99267006427
           ]
          }
         ]
        },
        {
         "data": [
          {
           "type": "scatter",
           "x": [
            0,
            100
           ],
           "y": [
            0.020356233626468854,
            149.99267023233875
           ]
          }
         ]
        },
        {
         "data": [
          {
           "type": "scatter",
           "x": [
            0,
            100
           ],
           "y": [
            0.02035576687651251,
            149.9926704004037
           ]
          }
         ]
        },
        {
         "data": [
          {
           "type": "scatter",
           "x": [
            0,
            100
           ],
           "y": [
            0.020355300137258316,
            149.99267056846475
           ]
          }
         ]
        },
        {
         "data": [
          {
           "type": "scatter",
           "x": [
            0,
            100
           ],
           "y": [
            0.020354833408706034,
            149.99267073652194
           ]
          }
         ]
        },
        {
         "data": [
          {
           "type": "scatter",
           "x": [
            0,
            100
           ],
           "y": [
            0.020354366690855413,
            149.99267090457533
           ]
          }
         ]
        },
        {
         "data": [
          {
           "type": "scatter",
           "x": [
            0,
            100
           ],
           "y": [
            0.02035389998370621,
            149.99267107262483
           ]
          }
         ]
        },
        {
         "data": [
          {
           "type": "scatter",
           "x": [
            0,
            100
           ],
           "y": [
            0.020353433287258176,
            149.99267124067046
           ]
          }
         ]
        },
        {
         "data": [
          {
           "type": "scatter",
           "x": [
            0,
            100
           ],
           "y": [
            0.02035296660151107,
            149.99267140871228
           ]
          }
         ]
        },
        {
         "data": [
          {
           "type": "scatter",
           "x": [
            0,
            100
           ],
           "y": [
            0.02035249992646464,
            149.99267157675024
           ]
          }
         ]
        },
        {
         "data": [
          {
           "type": "scatter",
           "x": [
            0,
            100
           ],
           "y": [
            0.020352033262118648,
            149.9926717447843
           ]
          }
         ]
        },
        {
         "data": [
          {
           "type": "scatter",
           "x": [
            0,
            100
           ],
           "y": [
            0.020351566608472847,
            149.99267191281453
           ]
          }
         ]
        },
        {
         "data": [
          {
           "type": "scatter",
           "x": [
            0,
            100
           ],
           "y": [
            0.02035109996552699,
            149.99267208084092
           ]
          }
         ]
        },
        {
         "data": [
          {
           "type": "scatter",
           "x": [
            0,
            100
           ],
           "y": [
            0.02035063333328083,
            149.9926722488635
           ]
          }
         ]
        }
       ],
       "layout": {
        "template": {
         "data": {
          "bar": [
           {
            "error_x": {
             "color": "#2a3f5f"
            },
            "error_y": {
             "color": "#2a3f5f"
            },
            "marker": {
             "line": {
              "color": "#E5ECF6",
              "width": 0.5
             }
            },
            "type": "bar"
           }
          ],
          "barpolar": [
           {
            "marker": {
             "line": {
              "color": "#E5ECF6",
              "width": 0.5
             }
            },
            "type": "barpolar"
           }
          ],
          "carpet": [
           {
            "aaxis": {
             "endlinecolor": "#2a3f5f",
             "gridcolor": "white",
             "linecolor": "white",
             "minorgridcolor": "white",
             "startlinecolor": "#2a3f5f"
            },
            "baxis": {
             "endlinecolor": "#2a3f5f",
             "gridcolor": "white",
             "linecolor": "white",
             "minorgridcolor": "white",
             "startlinecolor": "#2a3f5f"
            },
            "type": "carpet"
           }
          ],
          "choropleth": [
           {
            "colorbar": {
             "outlinewidth": 0,
             "ticks": ""
            },
            "type": "choropleth"
           }
          ],
          "contour": [
           {
            "colorbar": {
             "outlinewidth": 0,
             "ticks": ""
            },
            "colorscale": [
             [
              0,
              "#0d0887"
             ],
             [
              0.1111111111111111,
              "#46039f"
             ],
             [
              0.2222222222222222,
              "#7201a8"
             ],
             [
              0.3333333333333333,
              "#9c179e"
             ],
             [
              0.4444444444444444,
              "#bd3786"
             ],
             [
              0.5555555555555556,
              "#d8576b"
             ],
             [
              0.6666666666666666,
              "#ed7953"
             ],
             [
              0.7777777777777778,
              "#fb9f3a"
             ],
             [
              0.8888888888888888,
              "#fdca26"
             ],
             [
              1,
              "#f0f921"
             ]
            ],
            "type": "contour"
           }
          ],
          "contourcarpet": [
           {
            "colorbar": {
             "outlinewidth": 0,
             "ticks": ""
            },
            "type": "contourcarpet"
           }
          ],
          "heatmap": [
           {
            "colorbar": {
             "outlinewidth": 0,
             "ticks": ""
            },
            "colorscale": [
             [
              0,
              "#0d0887"
             ],
             [
              0.1111111111111111,
              "#46039f"
             ],
             [
              0.2222222222222222,
              "#7201a8"
             ],
             [
              0.3333333333333333,
              "#9c179e"
             ],
             [
              0.4444444444444444,
              "#bd3786"
             ],
             [
              0.5555555555555556,
              "#d8576b"
             ],
             [
              0.6666666666666666,
              "#ed7953"
             ],
             [
              0.7777777777777778,
              "#fb9f3a"
             ],
             [
              0.8888888888888888,
              "#fdca26"
             ],
             [
              1,
              "#f0f921"
             ]
            ],
            "type": "heatmap"
           }
          ],
          "heatmapgl": [
           {
            "colorbar": {
             "outlinewidth": 0,
             "ticks": ""
            },
            "colorscale": [
             [
              0,
              "#0d0887"
             ],
             [
              0.1111111111111111,
              "#46039f"
             ],
             [
              0.2222222222222222,
              "#7201a8"
             ],
             [
              0.3333333333333333,
              "#9c179e"
             ],
             [
              0.4444444444444444,
              "#bd3786"
             ],
             [
              0.5555555555555556,
              "#d8576b"
             ],
             [
              0.6666666666666666,
              "#ed7953"
             ],
             [
              0.7777777777777778,
              "#fb9f3a"
             ],
             [
              0.8888888888888888,
              "#fdca26"
             ],
             [
              1,
              "#f0f921"
             ]
            ],
            "type": "heatmapgl"
           }
          ],
          "histogram": [
           {
            "marker": {
             "colorbar": {
              "outlinewidth": 0,
              "ticks": ""
             }
            },
            "type": "histogram"
           }
          ],
          "histogram2d": [
           {
            "colorbar": {
             "outlinewidth": 0,
             "ticks": ""
            },
            "colorscale": [
             [
              0,
              "#0d0887"
             ],
             [
              0.1111111111111111,
              "#46039f"
             ],
             [
              0.2222222222222222,
              "#7201a8"
             ],
             [
              0.3333333333333333,
              "#9c179e"
             ],
             [
              0.4444444444444444,
              "#bd3786"
             ],
             [
              0.5555555555555556,
              "#d8576b"
             ],
             [
              0.6666666666666666,
              "#ed7953"
             ],
             [
              0.7777777777777778,
              "#fb9f3a"
             ],
             [
              0.8888888888888888,
              "#fdca26"
             ],
             [
              1,
              "#f0f921"
             ]
            ],
            "type": "histogram2d"
           }
          ],
          "histogram2dcontour": [
           {
            "colorbar": {
             "outlinewidth": 0,
             "ticks": ""
            },
            "colorscale": [
             [
              0,
              "#0d0887"
             ],
             [
              0.1111111111111111,
              "#46039f"
             ],
             [
              0.2222222222222222,
              "#7201a8"
             ],
             [
              0.3333333333333333,
              "#9c179e"
             ],
             [
              0.4444444444444444,
              "#bd3786"
             ],
             [
              0.5555555555555556,
              "#d8576b"
             ],
             [
              0.6666666666666666,
              "#ed7953"
             ],
             [
              0.7777777777777778,
              "#fb9f3a"
             ],
             [
              0.8888888888888888,
              "#fdca26"
             ],
             [
              1,
              "#f0f921"
             ]
            ],
            "type": "histogram2dcontour"
           }
          ],
          "mesh3d": [
           {
            "colorbar": {
             "outlinewidth": 0,
             "ticks": ""
            },
            "type": "mesh3d"
           }
          ],
          "parcoords": [
           {
            "line": {
             "colorbar": {
              "outlinewidth": 0,
              "ticks": ""
             }
            },
            "type": "parcoords"
           }
          ],
          "scatter": [
           {
            "marker": {
             "colorbar": {
              "outlinewidth": 0,
              "ticks": ""
             }
            },
            "type": "scatter"
           }
          ],
          "scatter3d": [
           {
            "line": {
             "colorbar": {
              "outlinewidth": 0,
              "ticks": ""
             }
            },
            "marker": {
             "colorbar": {
              "outlinewidth": 0,
              "ticks": ""
             }
            },
            "type": "scatter3d"
           }
          ],
          "scattercarpet": [
           {
            "marker": {
             "colorbar": {
              "outlinewidth": 0,
              "ticks": ""
             }
            },
            "type": "scattercarpet"
           }
          ],
          "scattergeo": [
           {
            "marker": {
             "colorbar": {
              "outlinewidth": 0,
              "ticks": ""
             }
            },
            "type": "scattergeo"
           }
          ],
          "scattergl": [
           {
            "marker": {
             "colorbar": {
              "outlinewidth": 0,
              "ticks": ""
             }
            },
            "type": "scattergl"
           }
          ],
          "scattermapbox": [
           {
            "marker": {
             "colorbar": {
              "outlinewidth": 0,
              "ticks": ""
             }
            },
            "type": "scattermapbox"
           }
          ],
          "scatterpolar": [
           {
            "marker": {
             "colorbar": {
              "outlinewidth": 0,
              "ticks": ""
             }
            },
            "type": "scatterpolar"
           }
          ],
          "scatterpolargl": [
           {
            "marker": {
             "colorbar": {
              "outlinewidth": 0,
              "ticks": ""
             }
            },
            "type": "scatterpolargl"
           }
          ],
          "scatterternary": [
           {
            "marker": {
             "colorbar": {
              "outlinewidth": 0,
              "ticks": ""
             }
            },
            "type": "scatterternary"
           }
          ],
          "surface": [
           {
            "colorbar": {
             "outlinewidth": 0,
             "ticks": ""
            },
            "colorscale": [
             [
              0,
              "#0d0887"
             ],
             [
              0.1111111111111111,
              "#46039f"
             ],
             [
              0.2222222222222222,
              "#7201a8"
             ],
             [
              0.3333333333333333,
              "#9c179e"
             ],
             [
              0.4444444444444444,
              "#bd3786"
             ],
             [
              0.5555555555555556,
              "#d8576b"
             ],
             [
              0.6666666666666666,
              "#ed7953"
             ],
             [
              0.7777777777777778,
              "#fb9f3a"
             ],
             [
              0.8888888888888888,
              "#fdca26"
             ],
             [
              1,
              "#f0f921"
             ]
            ],
            "type": "surface"
           }
          ],
          "table": [
           {
            "cells": {
             "fill": {
              "color": "#EBF0F8"
             },
             "line": {
              "color": "white"
             }
            },
            "header": {
             "fill": {
              "color": "#C8D4E3"
             },
             "line": {
              "color": "white"
             }
            },
            "type": "table"
           }
          ]
         },
         "layout": {
          "annotationdefaults": {
           "arrowcolor": "#2a3f5f",
           "arrowhead": 0,
           "arrowwidth": 1
          },
          "colorscale": {
           "diverging": [
            [
             0,
             "#8e0152"
            ],
            [
             0.1,
             "#c51b7d"
            ],
            [
             0.2,
             "#de77ae"
            ],
            [
             0.3,
             "#f1b6da"
            ],
            [
             0.4,
             "#fde0ef"
            ],
            [
             0.5,
             "#f7f7f7"
            ],
            [
             0.6,
             "#e6f5d0"
            ],
            [
             0.7,
             "#b8e186"
            ],
            [
             0.8,
             "#7fbc41"
            ],
            [
             0.9,
             "#4d9221"
            ],
            [
             1,
             "#276419"
            ]
           ],
           "sequential": [
            [
             0,
             "#0d0887"
            ],
            [
             0.1111111111111111,
             "#46039f"
            ],
            [
             0.2222222222222222,
             "#7201a8"
            ],
            [
             0.3333333333333333,
             "#9c179e"
            ],
            [
             0.4444444444444444,
             "#bd3786"
            ],
            [
             0.5555555555555556,
             "#d8576b"
            ],
            [
             0.6666666666666666,
             "#ed7953"
            ],
            [
             0.7777777777777778,
             "#fb9f3a"
            ],
            [
             0.8888888888888888,
             "#fdca26"
            ],
            [
             1,
             "#f0f921"
            ]
           ],
           "sequentialminus": [
            [
             0,
             "#0d0887"
            ],
            [
             0.1111111111111111,
             "#46039f"
            ],
            [
             0.2222222222222222,
             "#7201a8"
            ],
            [
             0.3333333333333333,
             "#9c179e"
            ],
            [
             0.4444444444444444,
             "#bd3786"
            ],
            [
             0.5555555555555556,
             "#d8576b"
            ],
            [
             0.6666666666666666,
             "#ed7953"
            ],
            [
             0.7777777777777778,
             "#fb9f3a"
            ],
            [
             0.8888888888888888,
             "#fdca26"
            ],
            [
             1,
             "#f0f921"
            ]
           ]
          },
          "colorway": [
           "#636efa",
           "#EF553B",
           "#00cc96",
           "#ab63fa",
           "#FFA15A",
           "#19d3f3",
           "#FF6692",
           "#B6E880",
           "#FF97FF",
           "#FECB52"
          ],
          "font": {
           "color": "#2a3f5f"
          },
          "geo": {
           "bgcolor": "white",
           "lakecolor": "white",
           "landcolor": "#E5ECF6",
           "showlakes": true,
           "showland": true,
           "subunitcolor": "white"
          },
          "hoverlabel": {
           "align": "left"
          },
          "hovermode": "closest",
          "mapbox": {
           "style": "light"
          },
          "paper_bgcolor": "white",
          "plot_bgcolor": "#E5ECF6",
          "polar": {
           "angularaxis": {
            "gridcolor": "white",
            "linecolor": "white",
            "ticks": ""
           },
           "bgcolor": "#E5ECF6",
           "radialaxis": {
            "gridcolor": "white",
            "linecolor": "white",
            "ticks": ""
           }
          },
          "scene": {
           "xaxis": {
            "backgroundcolor": "#E5ECF6",
            "gridcolor": "white",
            "gridwidth": 2,
            "linecolor": "white",
            "showbackground": true,
            "ticks": "",
            "zerolinecolor": "white"
           },
           "yaxis": {
            "backgroundcolor": "#E5ECF6",
            "gridcolor": "white",
            "gridwidth": 2,
            "linecolor": "white",
            "showbackground": true,
            "ticks": "",
            "zerolinecolor": "white"
           },
           "zaxis": {
            "backgroundcolor": "#E5ECF6",
            "gridcolor": "white",
            "gridwidth": 2,
            "linecolor": "white",
            "showbackground": true,
            "ticks": "",
            "zerolinecolor": "white"
           }
          },
          "shapedefaults": {
           "line": {
            "color": "#2a3f5f"
           }
          },
          "ternary": {
           "aaxis": {
            "gridcolor": "white",
            "linecolor": "white",
            "ticks": ""
           },
           "baxis": {
            "gridcolor": "white",
            "linecolor": "white",
            "ticks": ""
           },
           "bgcolor": "#E5ECF6",
           "caxis": {
            "gridcolor": "white",
            "linecolor": "white",
            "ticks": ""
           }
          },
          "title": {
           "x": 0.05
          },
          "xaxis": {
           "automargin": true,
           "gridcolor": "white",
           "linecolor": "white",
           "ticks": "",
           "zerolinecolor": "white",
           "zerolinewidth": 2
          },
          "yaxis": {
           "automargin": true,
           "gridcolor": "white",
           "linecolor": "white",
           "ticks": "",
           "zerolinecolor": "white",
           "zerolinewidth": 2
          }
         }
        },
        "title": {
         "text": "Regression Line"
        },
        "updatemenus": [
         {
          "buttons": [
           {
            "args": [
             null
            ],
            "label": "Play",
            "method": "animate"
           }
          ],
          "type": "buttons"
         }
        ],
        "xaxis": {
         "autorange": false,
         "range": [
          0,
          110
         ]
        },
        "yaxis": {
         "autorange": false,
         "range": [
          0,
          160
         ]
        }
       }
      },
      "text/html": [
       "<div>\n",
       "        \n",
       "        \n",
       "            <div id=\"cc3ba53e-ce9a-466a-876b-93321a76a833\" class=\"plotly-graph-div\" style=\"height:525px; width:100%;\"></div>\n",
       "            <script type=\"text/javascript\">\n",
       "                require([\"plotly\"], function(Plotly) {\n",
       "                    window.PLOTLYENV=window.PLOTLYENV || {};\n",
       "                    \n",
       "                if (document.getElementById(\"cc3ba53e-ce9a-466a-876b-93321a76a833\")) {\n",
       "                    Plotly.newPlot(\n",
       "                        'cc3ba53e-ce9a-466a-876b-93321a76a833',\n",
       "                        [{\"type\": \"scatter\", \"x\": [0], \"y\": [0]}, {\"mode\": \"markers\", \"type\": \"scatter\", \"x\": [30, 40, 100], \"y\": [45, 60, 150]}],\n",
       "                        {\"template\": {\"data\": {\"bar\": [{\"error_x\": {\"color\": \"#2a3f5f\"}, \"error_y\": {\"color\": \"#2a3f5f\"}, \"marker\": {\"line\": {\"color\": \"#E5ECF6\", \"width\": 0.5}}, \"type\": \"bar\"}], \"barpolar\": [{\"marker\": {\"line\": {\"color\": \"#E5ECF6\", \"width\": 0.5}}, \"type\": \"barpolar\"}], \"carpet\": [{\"aaxis\": {\"endlinecolor\": \"#2a3f5f\", \"gridcolor\": \"white\", \"linecolor\": \"white\", \"minorgridcolor\": \"white\", \"startlinecolor\": \"#2a3f5f\"}, \"baxis\": {\"endlinecolor\": \"#2a3f5f\", \"gridcolor\": \"white\", \"linecolor\": \"white\", \"minorgridcolor\": \"white\", \"startlinecolor\": \"#2a3f5f\"}, \"type\": \"carpet\"}], \"choropleth\": [{\"colorbar\": {\"outlinewidth\": 0, \"ticks\": \"\"}, \"type\": \"choropleth\"}], \"contour\": [{\"colorbar\": {\"outlinewidth\": 0, \"ticks\": \"\"}, \"colorscale\": [[0.0, \"#0d0887\"], [0.1111111111111111, \"#46039f\"], [0.2222222222222222, \"#7201a8\"], [0.3333333333333333, \"#9c179e\"], [0.4444444444444444, \"#bd3786\"], [0.5555555555555556, \"#d8576b\"], [0.6666666666666666, \"#ed7953\"], [0.7777777777777778, \"#fb9f3a\"], [0.8888888888888888, \"#fdca26\"], [1.0, \"#f0f921\"]], \"type\": \"contour\"}], \"contourcarpet\": [{\"colorbar\": {\"outlinewidth\": 0, \"ticks\": \"\"}, \"type\": \"contourcarpet\"}], \"heatmap\": [{\"colorbar\": {\"outlinewidth\": 0, \"ticks\": \"\"}, \"colorscale\": [[0.0, \"#0d0887\"], [0.1111111111111111, \"#46039f\"], [0.2222222222222222, \"#7201a8\"], [0.3333333333333333, \"#9c179e\"], [0.4444444444444444, \"#bd3786\"], [0.5555555555555556, \"#d8576b\"], [0.6666666666666666, \"#ed7953\"], [0.7777777777777778, \"#fb9f3a\"], [0.8888888888888888, \"#fdca26\"], [1.0, \"#f0f921\"]], \"type\": \"heatmap\"}], \"heatmapgl\": [{\"colorbar\": {\"outlinewidth\": 0, \"ticks\": \"\"}, \"colorscale\": [[0.0, \"#0d0887\"], [0.1111111111111111, \"#46039f\"], [0.2222222222222222, \"#7201a8\"], [0.3333333333333333, \"#9c179e\"], [0.4444444444444444, \"#bd3786\"], [0.5555555555555556, \"#d8576b\"], [0.6666666666666666, \"#ed7953\"], [0.7777777777777778, \"#fb9f3a\"], [0.8888888888888888, \"#fdca26\"], [1.0, \"#f0f921\"]], \"type\": \"heatmapgl\"}], \"histogram\": [{\"marker\": {\"colorbar\": {\"outlinewidth\": 0, \"ticks\": \"\"}}, \"type\": \"histogram\"}], \"histogram2d\": [{\"colorbar\": {\"outlinewidth\": 0, \"ticks\": \"\"}, \"colorscale\": [[0.0, \"#0d0887\"], [0.1111111111111111, \"#46039f\"], [0.2222222222222222, \"#7201a8\"], [0.3333333333333333, \"#9c179e\"], [0.4444444444444444, \"#bd3786\"], [0.5555555555555556, \"#d8576b\"], [0.6666666666666666, \"#ed7953\"], [0.7777777777777778, \"#fb9f3a\"], [0.8888888888888888, \"#fdca26\"], [1.0, \"#f0f921\"]], \"type\": \"histogram2d\"}], \"histogram2dcontour\": [{\"colorbar\": {\"outlinewidth\": 0, \"ticks\": \"\"}, \"colorscale\": [[0.0, \"#0d0887\"], [0.1111111111111111, \"#46039f\"], [0.2222222222222222, \"#7201a8\"], [0.3333333333333333, \"#9c179e\"], [0.4444444444444444, \"#bd3786\"], [0.5555555555555556, \"#d8576b\"], [0.6666666666666666, \"#ed7953\"], [0.7777777777777778, \"#fb9f3a\"], [0.8888888888888888, \"#fdca26\"], [1.0, \"#f0f921\"]], \"type\": \"histogram2dcontour\"}], \"mesh3d\": [{\"colorbar\": {\"outlinewidth\": 0, \"ticks\": \"\"}, \"type\": \"mesh3d\"}], \"parcoords\": [{\"line\": {\"colorbar\": {\"outlinewidth\": 0, \"ticks\": \"\"}}, \"type\": \"parcoords\"}], \"scatter\": [{\"marker\": {\"colorbar\": {\"outlinewidth\": 0, \"ticks\": \"\"}}, \"type\": \"scatter\"}], \"scatter3d\": [{\"line\": {\"colorbar\": {\"outlinewidth\": 0, \"ticks\": \"\"}}, \"marker\": {\"colorbar\": {\"outlinewidth\": 0, \"ticks\": \"\"}}, \"type\": \"scatter3d\"}], \"scattercarpet\": [{\"marker\": {\"colorbar\": {\"outlinewidth\": 0, \"ticks\": \"\"}}, \"type\": \"scattercarpet\"}], \"scattergeo\": [{\"marker\": {\"colorbar\": {\"outlinewidth\": 0, \"ticks\": \"\"}}, \"type\": \"scattergeo\"}], \"scattergl\": [{\"marker\": {\"colorbar\": {\"outlinewidth\": 0, \"ticks\": \"\"}}, \"type\": \"scattergl\"}], \"scattermapbox\": [{\"marker\": {\"colorbar\": {\"outlinewidth\": 0, \"ticks\": \"\"}}, \"type\": \"scattermapbox\"}], \"scatterpolar\": [{\"marker\": {\"colorbar\": {\"outlinewidth\": 0, \"ticks\": \"\"}}, \"type\": \"scatterpolar\"}], \"scatterpolargl\": [{\"marker\": {\"colorbar\": {\"outlinewidth\": 0, \"ticks\": \"\"}}, \"type\": \"scatterpolargl\"}], \"scatterternary\": [{\"marker\": {\"colorbar\": {\"outlinewidth\": 0, \"ticks\": \"\"}}, \"type\": \"scatterternary\"}], \"surface\": [{\"colorbar\": {\"outlinewidth\": 0, \"ticks\": \"\"}, \"colorscale\": [[0.0, \"#0d0887\"], [0.1111111111111111, \"#46039f\"], [0.2222222222222222, \"#7201a8\"], [0.3333333333333333, \"#9c179e\"], [0.4444444444444444, \"#bd3786\"], [0.5555555555555556, \"#d8576b\"], [0.6666666666666666, \"#ed7953\"], [0.7777777777777778, \"#fb9f3a\"], [0.8888888888888888, \"#fdca26\"], [1.0, \"#f0f921\"]], \"type\": \"surface\"}], \"table\": [{\"cells\": {\"fill\": {\"color\": \"#EBF0F8\"}, \"line\": {\"color\": \"white\"}}, \"header\": {\"fill\": {\"color\": \"#C8D4E3\"}, \"line\": {\"color\": \"white\"}}, \"type\": \"table\"}]}, \"layout\": {\"annotationdefaults\": {\"arrowcolor\": \"#2a3f5f\", \"arrowhead\": 0, \"arrowwidth\": 1}, \"colorscale\": {\"diverging\": [[0, \"#8e0152\"], [0.1, \"#c51b7d\"], [0.2, \"#de77ae\"], [0.3, \"#f1b6da\"], [0.4, \"#fde0ef\"], [0.5, \"#f7f7f7\"], [0.6, \"#e6f5d0\"], [0.7, \"#b8e186\"], [0.8, \"#7fbc41\"], [0.9, \"#4d9221\"], [1, \"#276419\"]], \"sequential\": [[0.0, \"#0d0887\"], [0.1111111111111111, \"#46039f\"], [0.2222222222222222, \"#7201a8\"], [0.3333333333333333, \"#9c179e\"], [0.4444444444444444, \"#bd3786\"], [0.5555555555555556, \"#d8576b\"], [0.6666666666666666, \"#ed7953\"], [0.7777777777777778, \"#fb9f3a\"], [0.8888888888888888, \"#fdca26\"], [1.0, \"#f0f921\"]], \"sequentialminus\": [[0.0, \"#0d0887\"], [0.1111111111111111, \"#46039f\"], [0.2222222222222222, \"#7201a8\"], [0.3333333333333333, \"#9c179e\"], [0.4444444444444444, \"#bd3786\"], [0.5555555555555556, \"#d8576b\"], [0.6666666666666666, \"#ed7953\"], [0.7777777777777778, \"#fb9f3a\"], [0.8888888888888888, \"#fdca26\"], [1.0, \"#f0f921\"]]}, \"colorway\": [\"#636efa\", \"#EF553B\", \"#00cc96\", \"#ab63fa\", \"#FFA15A\", \"#19d3f3\", \"#FF6692\", \"#B6E880\", \"#FF97FF\", \"#FECB52\"], \"font\": {\"color\": \"#2a3f5f\"}, \"geo\": {\"bgcolor\": \"white\", \"lakecolor\": \"white\", \"landcolor\": \"#E5ECF6\", \"showlakes\": true, \"showland\": true, \"subunitcolor\": \"white\"}, \"hoverlabel\": {\"align\": \"left\"}, \"hovermode\": \"closest\", \"mapbox\": {\"style\": \"light\"}, \"paper_bgcolor\": \"white\", \"plot_bgcolor\": \"#E5ECF6\", \"polar\": {\"angularaxis\": {\"gridcolor\": \"white\", \"linecolor\": \"white\", \"ticks\": \"\"}, \"bgcolor\": \"#E5ECF6\", \"radialaxis\": {\"gridcolor\": \"white\", \"linecolor\": \"white\", \"ticks\": \"\"}}, \"scene\": {\"xaxis\": {\"backgroundcolor\": \"#E5ECF6\", \"gridcolor\": \"white\", \"gridwidth\": 2, \"linecolor\": \"white\", \"showbackground\": true, \"ticks\": \"\", \"zerolinecolor\": \"white\"}, \"yaxis\": {\"backgroundcolor\": \"#E5ECF6\", \"gridcolor\": \"white\", \"gridwidth\": 2, \"linecolor\": \"white\", \"showbackground\": true, \"ticks\": \"\", \"zerolinecolor\": \"white\"}, \"zaxis\": {\"backgroundcolor\": \"#E5ECF6\", \"gridcolor\": \"white\", \"gridwidth\": 2, \"linecolor\": \"white\", \"showbackground\": true, \"ticks\": \"\", \"zerolinecolor\": \"white\"}}, \"shapedefaults\": {\"line\": {\"color\": \"#2a3f5f\"}}, \"ternary\": {\"aaxis\": {\"gridcolor\": \"white\", \"linecolor\": \"white\", \"ticks\": \"\"}, \"baxis\": {\"gridcolor\": \"white\", \"linecolor\": \"white\", \"ticks\": \"\"}, \"bgcolor\": \"#E5ECF6\", \"caxis\": {\"gridcolor\": \"white\", \"linecolor\": \"white\", \"ticks\": \"\"}}, \"title\": {\"x\": 0.05}, \"xaxis\": {\"automargin\": true, \"gridcolor\": \"white\", \"linecolor\": \"white\", \"ticks\": \"\", \"zerolinecolor\": \"white\", \"zerolinewidth\": 2}, \"yaxis\": {\"automargin\": true, \"gridcolor\": \"white\", \"linecolor\": \"white\", \"ticks\": \"\", \"zerolinecolor\": \"white\", \"zerolinewidth\": 2}}}, \"title\": {\"text\": \"Regression Line\"}, \"updatemenus\": [{\"buttons\": [{\"args\": [null], \"label\": \"Play\", \"method\": \"animate\"}], \"type\": \"buttons\"}], \"xaxis\": {\"autorange\": false, \"range\": [0, 110]}, \"yaxis\": {\"autorange\": false, \"range\": [0, 160]}},\n",
       "                        {\"responsive\": true}\n",
       "                    ).then(function(){\n",
       "                            Plotly.addFrames('cc3ba53e-ce9a-466a-876b-93321a76a833', [{\"data\": [{\"x\": [0, 100], \"y\": [0.0085, 62.508499999999984], \"type\": \"scatter\"}]}, {\"data\": [{\"x\": [0, 100], \"y\": [0.013457483333333336, 98.96697415], \"type\": \"scatter\"}]}, {\"data\": [{\"x\": [0, 100], \"y\": [0.016348771640555558, 120.23160758664055], \"type\": \"scatter\"}]}, {\"data\": [{\"x\": [0, 100], \"y\": [0.018034938763874835, 132.63433827691753], \"type\": \"scatter\"}]}, {\"data\": [{\"x\": [0, 100], \"y\": [0.01901821141416974, 139.86830869337098], \"type\": \"scatter\"}]}, {\"data\": [{\"x\": [0, 100], \"y\": [0.019591516465717437, 144.08756731113914], \"type\": \"scatter\"}]}, {\"data\": [{\"x\": [0, 100], \"y\": [0.019925705352372706, 146.54847639291464], \"type\": \"scatter\"}]}, {\"data\": [{\"x\": [0, 100], \"y\": [0.020120428242875608, 147.98381709628785], \"type\": \"scatter\"}]}, {\"data\": [{\"x\": [0, 100], \"y\": [0.02023380672219544, 148.82098862041082], \"type\": \"scatter\"}]}, {\"data\": [{\"x\": [0, 100], \"y\": [0.020299740568747532, 149.30927422474454], \"type\": \"scatter\"}]}, {\"data\": [{\"x\": [0, 100], \"y\": [0.020338002040587364, 149.59406993148747], \"type\": \"scatter\"}]}, {\"data\": [{\"x\": [0, 100], \"y\": [0.020360123431047983, 149.76017888111875], \"type\": \"scatter\"}]}, {\"data\": [{\"x\": [0, 100], \"y\": [0.02037283102243591, 149.85706303639597], \"type\": \"scatter\"}]}, {\"data\": [{\"x\": [0, 100], \"y\": [0.020380047961029164, 149.91357139684956], \"type\": \"scatter\"}]}, {\"data\": [{\"x\": [0, 100], \"y\": [0.020384062446462712, 149.9465303221202], \"type\": \"scatter\"}]}, {\"data\": [{\"x\": [0, 100], \"y\": [0.02038620908550322, 149.96575389184218], \"type\": \"scatter\"}]}, {\"data\": [{\"x\": [0, 100], \"y\": [0.020387266295905124, 149.97696622942217], \"type\": \"scatter\"}]}, {\"data\": [{\"x\": [0, 100], \"y\": [0.02038768809469838, 149.98350596568403], \"type\": \"scatter\"}]}, {\"data\": [{\"x\": [0, 100], \"y\": [0.020387739290158847, 149.9873203779636], \"type\": \"scatter\"}]}, {\"data\": [{\"x\": [0, 100], \"y\": [0.02038757433337167, 149.9895452279618], \"type\": \"scatter\"}]}, {\"data\": [{\"x\": [0, 100], \"y\": [0.020387283308899388, 149.99084295580323], \"type\": \"scatter\"}]}, {\"data\": [{\"x\": [0, 100], \"y\": [0.020386918759127154, 149.9915999338391], \"type\": \"scatter\"}]}, {\"data\": [{\"x\": [0, 100], \"y\": [0.02038651132973004, 149.99204151616286], \"type\": \"scatter\"}]}, {\"data\": [{\"x\": [0, 100], \"y\": [0.02038607889498986, 149.9922991419608], \"type\": \"scatter\"}]}, {\"data\": [{\"x\": [0, 100], \"y\": [0.020385631880193298, 149.99244947396141], \"type\": \"scatter\"}]}, {\"data\": [{\"x\": [0, 100], \"y\": [0.020385176365954008, 149.9925372261812], \"type\": \"scatter\"}]}, {\"data\": [{\"x\": [0, 100], \"y\": [0.02038471589882788, 149.99258847835034], \"type\": \"scatter\"}]}, {\"data\": [{\"x\": [0, 100], \"y\": [0.020384252547365745, 149.99261844163473], \"type\": \"scatter\"}]}, {\"data\": [{\"x\": [0, 100], \"y\": [0.020383787518062725, 149.9926359880422], \"type\": \"scatter\"}]}, {\"data\": [{\"x\": [0, 100], \"y\": [0.020383321514614552, 149.9926462922268], \"type\": \"scatter\"}]}, {\"data\": [{\"x\": [0, 100], \"y\": [0.020382854947456067, 149.99265237233797], \"type\": \"scatter\"}]}, {\"data\": [{\"x\": [0, 100], \"y\": [0.02038238805597586, 149.9926559887302], \"type\": \"scatter\"}]}, {\"data\": [{\"x\": [0, 100], \"y\": [0.020381920979798723, 149.99265816814136], \"type\": \"scatter\"}]}, {\"data\": [{\"x\": [0, 100], \"y\": [0.020381453800361587, 149.99265950942274], \"type\": \"scatter\"}]}, {\"data\": [{\"x\": [0, 100], \"y\": [0.020380986565162948, 149.99266036185801], \"type\": \"scatter\"}]}, {\"data\": [{\"x\": [0, 100], \"y\": [0.020380519301906503, 149.99266092916915], \"type\": \"scatter\"}]}, {\"data\": [{\"x\": [0, 100], \"y\": [0.020380052026750504, 149.99266133017824], \"type\": \"scatter\"}]}, {\"data\": [{\"x\": [0, 100], \"y\": [0.020379584749119245, 149.99266163418898], \"type\": \"scatter\"}]}, {\"data\": [{\"x\": [0, 100], \"y\": [0.020379117474509406, 149.99266188162326], \"type\": \"scatter\"}]}, {\"data\": [{\"x\": [0, 100], \"y\": [0.02037865020612686, 149.99266209605736], \"type\": \"scatter\"}]}, {\"data\": [{\"x\": [0, 100], \"y\": [0.020378182945841344, 149.99266229124225], \"type\": \"scatter\"}]}, {\"data\": [{\"x\": [0, 100], \"y\": [0.020377715694743295, 149.99266247519833], \"type\": \"scatter\"}]}, {\"data\": [{\"x\": [0, 100], \"y\": [0.020377248453468617, 149.99266265260354], \"type\": \"scatter\"}]}, {\"data\": [{\"x\": [0, 100], \"y\": [0.020376781222388098, 149.99266282618632], \"type\": \"scatter\"}]}, {\"data\": [{\"x\": [0, 100], \"y\": [0.020376314001717903, 149.992662997538], \"type\": \"scatter\"}]}, {\"data\": [{\"x\": [0, 100], \"y\": [0.02037584679158401, 149.99266316758678], \"type\": \"scatter\"}]}, {\"data\": [{\"x\": [0, 100], \"y\": [0.02037537959205979, 149.99266333687402], \"type\": \"scatter\"}]}, {\"data\": [{\"x\": [0, 100], \"y\": [0.02037491240318794, 149.99266350571548], \"type\": \"scatter\"}]}, {\"data\": [{\"x\": [0, 100], \"y\": [0.020374445224993258, 149.9926636742954], \"type\": \"scatter\"}]}, {\"data\": [{\"x\": [0, 100], \"y\": [0.020373978057490104, 149.99266384272104], \"type\": \"scatter\"}]}, {\"data\": [{\"x\": [0, 100], \"y\": [0.020373510900686752, 149.9926640110552], \"type\": \"scatter\"}]}, {\"data\": [{\"x\": [0, 100], \"y\": [0.020373043754587927, 149.9926641793343], \"type\": \"scatter\"}]}, {\"data\": [{\"x\": [0, 100], \"y\": [0.020372576619196284, 149.9926643475798], \"type\": \"scatter\"}]}, {\"data\": [{\"x\": [0, 100], \"y\": [0.020372109494513263, 149.99266451580397], \"type\": \"scatter\"}]}, {\"data\": [{\"x\": [0, 100], \"y\": [0.02037164238053961, 149.9926646840142], \"type\": \"scatter\"}]}, {\"data\": [{\"x\": [0, 100], \"y\": [0.02037117527727565, 149.99266485221457], \"type\": \"scatter\"}]}, {\"data\": [{\"x\": [0, 100], \"y\": [0.020370708184721472, 149.9926650204077], \"type\": \"scatter\"}]}, {\"data\": [{\"x\": [0, 100], \"y\": [0.02037024110287703, 149.99266518859494], \"type\": \"scatter\"}]}, {\"data\": [{\"x\": [0, 100], \"y\": [0.020369774031742192, 149.99266535677714], \"type\": \"scatter\"}]}, {\"data\": [{\"x\": [0, 100], \"y\": [0.020369306971316777, 149.99266552495482], \"type\": \"scatter\"}]}, {\"data\": [{\"x\": [0, 100], \"y\": [0.02036883992160058, 149.99266569312823], \"type\": \"scatter\"}]}, {\"data\": [{\"x\": [0, 100], \"y\": [0.020368372882593376, 149.99266586129755], \"type\": \"scatter\"}]}, {\"data\": [{\"x\": [0, 100], \"y\": [0.020367905854294936, 149.9926660294629], \"type\": \"scatter\"}]}, {\"data\": [{\"x\": [0, 100], \"y\": [0.02036743883670502, 149.99266619762426], \"type\": \"scatter\"}]}, {\"data\": [{\"x\": [0, 100], \"y\": [0.020366971829823388, 149.9926663657818], \"type\": \"scatter\"}]}, {\"data\": [{\"x\": [0, 100], \"y\": [0.020366504833649796, 149.9926665339354], \"type\": \"scatter\"}]}, {\"data\": [{\"x\": [0, 100], \"y\": [0.020366037848184, 149.99266670208513], \"type\": \"scatter\"}]}, {\"data\": [{\"x\": [0, 100], \"y\": [0.020365570873425755, 149.992666870231], \"type\": \"scatter\"}]}, {\"data\": [{\"x\": [0, 100], \"y\": [0.020365103909374817, 149.992667038373], \"type\": \"scatter\"}]}, {\"data\": [{\"x\": [0, 100], \"y\": [0.02036463695603094, 149.9926672065112], \"type\": \"scatter\"}]}, {\"data\": [{\"x\": [0, 100], \"y\": [0.020364170013393877, 149.99266737464546], \"type\": \"scatter\"}]}, {\"data\": [{\"x\": [0, 100], \"y\": [0.02036370308146339, 149.99266754277593], \"type\": \"scatter\"}]}, {\"data\": [{\"x\": [0, 100], \"y\": [0.02036323616023922, 149.99266771090254], \"type\": \"scatter\"}]}, {\"data\": [{\"x\": [0, 100], \"y\": [0.020362769249721135, 149.99266787902525], \"type\": \"scatter\"}]}, {\"data\": [{\"x\": [0, 100], \"y\": [0.020362302349908882, 149.9926680471441], \"type\": \"scatter\"}]}, {\"data\": [{\"x\": [0, 100], \"y\": [0.02036183546080222, 149.99266821525913], \"type\": \"scatter\"}]}, {\"data\": [{\"x\": [0, 100], \"y\": [0.020361368582400903, 149.99266838337033], \"type\": \"scatter\"}]}, {\"data\": [{\"x\": [0, 100], \"y\": [0.02036090171470468, 149.99266855147764], \"type\": \"scatter\"}]}, {\"data\": [{\"x\": [0, 100], \"y\": [0.020360434857713314, 149.99266871958108], \"type\": \"scatter\"}]}, {\"data\": [{\"x\": [0, 100], \"y\": [0.020359968011426553, 149.9926688876807], \"type\": \"scatter\"}]}, {\"data\": [{\"x\": [0, 100], \"y\": [0.02035950117584415, 149.99266905577645], \"type\": \"scatter\"}]}, {\"data\": [{\"x\": [0, 100], \"y\": [0.020359034350965866, 149.99266922386832], \"type\": \"scatter\"}]}, {\"data\": [{\"x\": [0, 100], \"y\": [0.020358567536791453, 149.99266939195635], \"type\": \"scatter\"}]}, {\"data\": [{\"x\": [0, 100], \"y\": [0.020358100733320665, 149.99266956004058], \"type\": \"scatter\"}]}, {\"data\": [{\"x\": [0, 100], \"y\": [0.020357633940553257, 149.9926697281209], \"type\": \"scatter\"}]}, {\"data\": [{\"x\": [0, 100], \"y\": [0.02035716715848898, 149.99266989619738], \"type\": \"scatter\"}]}, {\"data\": [{\"x\": [0, 100], \"y\": [0.020356700387127596, 149.99267006427], \"type\": \"scatter\"}]}, {\"data\": [{\"x\": [0, 100], \"y\": [0.020356233626468854, 149.99267023233875], \"type\": \"scatter\"}]}, {\"data\": [{\"x\": [0, 100], \"y\": [0.02035576687651251, 149.9926704004037], \"type\": \"scatter\"}]}, {\"data\": [{\"x\": [0, 100], \"y\": [0.020355300137258316, 149.99267056846475], \"type\": \"scatter\"}]}, {\"data\": [{\"x\": [0, 100], \"y\": [0.020354833408706034, 149.99267073652194], \"type\": \"scatter\"}]}, {\"data\": [{\"x\": [0, 100], \"y\": [0.020354366690855413, 149.99267090457533], \"type\": \"scatter\"}]}, {\"data\": [{\"x\": [0, 100], \"y\": [0.02035389998370621, 149.99267107262483], \"type\": \"scatter\"}]}, {\"data\": [{\"x\": [0, 100], \"y\": [0.020353433287258176, 149.99267124067046], \"type\": \"scatter\"}]}, {\"data\": [{\"x\": [0, 100], \"y\": [0.02035296660151107, 149.99267140871228], \"type\": \"scatter\"}]}, {\"data\": [{\"x\": [0, 100], \"y\": [0.02035249992646464, 149.99267157675024], \"type\": \"scatter\"}]}, {\"data\": [{\"x\": [0, 100], \"y\": [0.020352033262118648, 149.9926717447843], \"type\": \"scatter\"}]}, {\"data\": [{\"x\": [0, 100], \"y\": [0.020351566608472847, 149.99267191281453], \"type\": \"scatter\"}]}, {\"data\": [{\"x\": [0, 100], \"y\": [0.02035109996552699, 149.99267208084092], \"type\": \"scatter\"}]}, {\"data\": [{\"x\": [0, 100], \"y\": [0.02035063333328083, 149.9926722488635], \"type\": \"scatter\"}]}]);\n",
       "                        }).then(function(){\n",
       "                            Plotly.animate('cc3ba53e-ce9a-466a-876b-93321a76a833', null);\n",
       "                        }).then(function(){\n",
       "                            \n",
       "var gd = document.getElementById('cc3ba53e-ce9a-466a-876b-93321a76a833');\n",
       "var x = new MutationObserver(function (mutations, observer) {{\n",
       "        var display = window.getComputedStyle(gd).display;\n",
       "        if (!display || display === 'none') {{\n",
       "            console.log([gd, 'removed!']);\n",
       "            Plotly.purge(gd);\n",
       "            observer.disconnect();\n",
       "        }}\n",
       "}});\n",
       "\n",
       "// Listen for the removal of the full notebook cells\n",
       "var notebookContainer = gd.closest('#notebook-container');\n",
       "if (notebookContainer) {{\n",
       "    x.observe(notebookContainer, {childList: true});\n",
       "}}\n",
       "\n",
       "// Listen for the clearing of the current output cell\n",
       "var outputEl = gd.closest('.output');\n",
       "if (outputEl) {{\n",
       "    x.observe(outputEl, {childList: true});\n",
       "}}\n",
       "\n",
       "                        })\n",
       "                };\n",
       "                });\n",
       "            </script>\n",
       "        </div>"
      ]
     },
     "metadata": {},
     "output_type": "display_data"
    }
   ],
   "source": [
    "from plotly.offline import init_notebook_mode, iplot\n",
    "from IPython.display import display, HTML\n",
    "\n",
    "init_notebook_mode(connected=True)\n",
    "\n",
    "x_values_of_shows = list(map(lambda show: show['x'], shows))\n",
    "y_values_of_shows = list(map(lambda show: show['y'], shows))\n",
    "figure = {'data': [{'x': [0], 'y': [0]}, {'x': x_values_of_shows, 'y': y_values_of_shows, 'mode': 'markers'}],\n",
    "          'layout': {'xaxis': {'range': [0, 110], 'autorange': False},\n",
    "                     'yaxis': {'range': [0,160], 'autorange': False},\n",
    "                     'title': 'Regression Line',\n",
    "                     'updatemenus': [{'type': 'buttons',\n",
    "                                      'buttons': [{'label': 'Play',\n",
    "                                                   'method': 'animate',\n",
    "                                                   'args': [None]}]}]\n",
    "                    },\n",
    "          'frames': frames}\n",
    "iplot(figure)"
   ]
  },
  {
   "cell_type": "markdown",
   "metadata": {},
   "source": [
    "As you can see, our regression line starts off far away. Using our `step_gradient` function, the regression line moved closer to the line that produces the lowest error."
   ]
  },
  {
   "cell_type": "markdown",
   "metadata": {
    "collapsed": true
   },
   "source": [
    "### Summary"
   ]
  },
  {
   "cell_type": "markdown",
   "metadata": {
    "collapsed": true
   },
   "source": [
    "In this section, we saw our gradient descent formulas in action.  The core of the gradient descent functions are understanding the two lines: \n",
    "\n",
    "$$ \\frac{\\partial J}{\\partial m}J(m,b) = -2\\sum_{i = 1}^n x(y_i - (mx_i + b)) = -2\\sum_{i = 1}^n x_i*\\epsilon_i$$\n",
    "$$ \\frac{\\partial J}{\\partial b}J(m,b) = -2\\sum_{i = 1}^n(y_i - (mx_i + b)) = -2\\sum_{i = 1}^n \\epsilon_i $$\n",
    "    \n",
    "Both equations use the errors of the current regression line to determine how to update the regression line next.  These formulas came from our cost function, $J(m,b) = \\sum_{i = 1}^n(y_i - (mx_i + b))^2 $ and from using the gradient to find the direction of steepest descent. Translating this into code, and seeing how the regression line continued to improve in alignment with the data, we saw the effectiveness of this technique in practice.  "
   ]
  }
 ],
 "metadata": {
  "kernelspec": {
   "display_name": "Python 3",
   "language": "python",
   "name": "python3"
  },
  "language_info": {
   "codemirror_mode": {
    "name": "ipython",
    "version": 3
   },
   "file_extension": ".py",
   "mimetype": "text/x-python",
   "name": "python",
   "nbconvert_exporter": "python",
   "pygments_lexer": "ipython3",
   "version": "3.6.9"
  }
 },
 "nbformat": 4,
 "nbformat_minor": 2
}
